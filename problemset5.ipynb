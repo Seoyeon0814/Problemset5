{
 "cells": [
  {
   "cell_type": "code",
   "execution_count": 1,
   "id": "3c527135-a7a9-47e5-bf99-b420a619871d",
   "metadata": {
    "tags": []
   },
   "outputs": [
    {
     "name": "stdout",
     "output_type": "stream",
     "text": [
      "The country with the most recent independence is South Sudan, in 2011.\n"
     ]
    }
   ],
   "source": [
    "# QUESTION 1\n",
    "import sqlite3\n",
    "\n",
    "# 데이터베이스 경로 설정\n",
    "db_path = \"/blue/bsc4452/seoyeon0814/problem_set5/world.sqlite\"  \n",
    "\n",
    "# SQLite 데이터베이스 연결\n",
    "connection = sqlite3.connect(db_path)\n",
    "cursor = connection.cursor()\n",
    "\n",
    "# SQL 쿼리 작성: 독립 연도가 가장 최근인 국가 찾기\n",
    "sql_query = \"\"\"\n",
    "SELECT Name, IndepYear\n",
    "FROM country\n",
    "WHERE IndepYear IS NOT NULL\n",
    "ORDER BY IndepYear DESC\n",
    "LIMIT 1;\n",
    "\"\"\"\n",
    "\n",
    "# SQL 실행\n",
    "cursor.execute(sql_query)\n",
    "result = cursor.fetchone()\n",
    "\n",
    "# 결과 출력\n",
    "if result:\n",
    "    print(f\"The country with the most recent independence is {result[0]}, in {result[1]}.\")\n",
    "else:\n",
    "    print(\"No country found with independence year.\")\n",
    "\n",
    "# 연결 닫기\n",
    "connection.close()"
   ]
  },
  {
   "cell_type": "code",
   "execution_count": 58,
   "id": "bbf3fcc7-b573-404f-b99e-3c36be9bd26a",
   "metadata": {
    "tags": []
   },
   "outputs": [
    {
     "name": "stdout",
     "output_type": "stream",
     "text": [
      "South Sudan has been added to the country table.\n"
     ]
    }
   ],
   "source": [
    "# QUESTION 2\n",
    "import sqlite3\n",
    "\n",
    "# 데이터베이스 연결\n",
    "db_path = \"/blue/bsc4452/seoyeon0814/problem_set5/world.sqlite\"\n",
    "connection = sqlite3.connect(db_path)\n",
    "cursor = connection.cursor()\n",
    "\n",
    "# South Sudan이 이미 존재하는지 확인\n",
    "cursor.execute(\"SELECT * FROM country WHERE Code = 'SSD';\")\n",
    "if cursor.fetchone():\n",
    "    print(\"Country with Code 'SSD' already exists.\")\n",
    "else:\n",
    "    # SQL 실행\n",
    "    sql_insert = \"\"\"\n",
    "    INSERT INTO country (Code, Name, Continent, Region, SurfaceArea, Population, LifeExpectancy, IndepYear)\n",
    "    VALUES ('SSD', 'South Sudan', 'Africa', 'Eastern Africa', 619745, 11062113, 57.3, 2011);\n",
    "    \"\"\"\n",
    "    cursor.execute(sql_insert)\n",
    "\n",
    "    # 변경 사항 저장\n",
    "    connection.commit()\n",
    "\n",
    "    # 확인 메시지\n",
    "    print(\"South Sudan has been added to the country table.\")\n",
    "\n",
    "# 연결 닫기\n",
    "connection.close()\n"
   ]
  },
  {
   "cell_type": "code",
   "execution_count": 2,
   "id": "14e23660-81d7-44d7-a6df-29a54b5df019",
   "metadata": {
    "tags": []
   },
   "outputs": [
    {
     "name": "stdout",
     "output_type": "stream",
     "text": [
      "South Sudan information:\n",
      "('SSD', 'South Sudan', 'Africa', 'Eastern Africa', 619745.0, 2011, 11062113, 57.3, None, None, '', '', None, None, '')\n"
     ]
    }
   ],
   "source": [
    "# 남수단 정보가 제대로 들어가서, 해당정보가 어떤 내용들이 존재하는지 확인하고자 할 때\n",
    "import sqlite3\n",
    "\n",
    "# 데이터베이스 경로 설정\n",
    "db_path = \"/blue/bsc4452/seoyeon0814/problem_set5/world.sqlite\"\n",
    "\n",
    "try:\n",
    "    # 데이터베이스 연결\n",
    "    connection = sqlite3.connect(db_path)\n",
    "    cursor = connection.cursor()\n",
    "\n",
    "    # SQL 쿼리 작성: South Sudan 정보 조회\n",
    "    sql_query = \"\"\"\n",
    "    SELECT *\n",
    "    FROM country\n",
    "    WHERE Name = 'South Sudan';\n",
    "    \"\"\"\n",
    "\n",
    "    # SQL 실행\n",
    "    cursor.execute(sql_query)\n",
    "    result = cursor.fetchone()\n",
    "\n",
    "    # 결과 출력\n",
    "    if result:\n",
    "        print(\"South Sudan information:\")\n",
    "        print(result)\n",
    "    else:\n",
    "        print(\"South Sudan is not found in the country table.\")\n",
    "\n",
    "except sqlite3.OperationalError as e:\n",
    "    print(f\"Database error: {e}\")\n",
    "\n",
    "finally:\n",
    "    # 연결 닫기\n",
    "    if connection:\n",
    "        connection.close()"
   ]
  },
  {
   "cell_type": "code",
   "execution_count": 60,
   "id": "b20169ca-8d48-465e-9292-e16ae87b3c57",
   "metadata": {
    "tags": []
   },
   "outputs": [
    {
     "name": "stdout",
     "output_type": "stream",
     "text": [
      "Cities Juba and Malakal have been added to the city table.\n"
     ]
    }
   ],
   "source": [
    "# QUESTION 3\n",
    "import sqlite3\n",
    "\n",
    "# 데이터베이스 경로 설정\n",
    "db_path = \"/blue/bsc4452/seoyeon0814/problem_set5/world.sqlite\"  # 경로 수정\n",
    "connection = sqlite3.connect(db_path)\n",
    "cursor = connection.cursor()\n",
    "\n",
    "# South Sudan의 두 도시 데이터 추가\n",
    "try:\n",
    "    # 기존 데이터 확인\n",
    "    cursor.execute(\"SELECT * FROM city WHERE CountryCode = 'SSD';\")\n",
    "    existing_cities = cursor.fetchall()\n",
    "\n",
    "    if len(existing_cities) > 0:\n",
    "        print(\"South Sudan cities already exist in the table:\")\n",
    "        for city in existing_cities:\n",
    "            print(city)\n",
    "    else:\n",
    "        # SQL INSERT 실행\n",
    "        sql_insert = \"\"\"\n",
    "        INSERT INTO city (Name, CountryCode, Population)\n",
    "        VALUES \n",
    "            ('Juba', 'SSD', 525953),\n",
    "            ('Malakal', 'SSD', 147450);\n",
    "        \"\"\"\n",
    "        cursor.execute(sql_insert)\n",
    "\n",
    "        # 변경 사항 저장\n",
    "        connection.commit()\n",
    "        print(\"Cities Juba and Malakal have been added to the city table.\")\n",
    "\n",
    "except sqlite3.Error as e:\n",
    "    print(f\"Database error: {e}\")\n",
    "\n",
    "finally:\n",
    "    # 연결 닫기\n",
    "    if connection:\n",
    "        connection.close()\n"
   ]
  },
  {
   "cell_type": "code",
   "execution_count": 63,
   "id": "5bea44d3-77c6-43fc-9605-b88e47acab3f",
   "metadata": {
    "tags": []
   },
   "outputs": [
    {
     "name": "stdout",
     "output_type": "stream",
     "text": [
      "Fetching South Sudan information from the country table:\n",
      "Country Information:\n",
      "('SSD', 'South Sudan', 'Africa', 'Eastern Africa', 619745.0, 2011, 11062113, 57.3, None, None, '', '', None, None, '')\n",
      "\n",
      "Fetching South Sudan cities from the city table:\n",
      "City Information:\n",
      "(1234568, 'Juba', 'SSD', '', 525953)\n",
      "(1234569, 'Malakal', 'SSD', '', 147450)\n"
     ]
    }
   ],
   "source": [
    "#테이블에 추가되었는지 확인\n",
    "import sqlite3\n",
    "\n",
    "# 데이터베이스 경로 설정\n",
    "db_path = \"/blue/bsc4452/seoyeon0814/problem_set5/world.sqlite\"  # 경로 수정\n",
    "\n",
    "try:\n",
    "    # 데이터베이스 연결\n",
    "    connection = sqlite3.connect(db_path)\n",
    "    cursor = connection.cursor()\n",
    "\n",
    "    # South Sudan 관련 국가 정보 추출\n",
    "    print(\"Fetching South Sudan information from the country table:\")\n",
    "    sql_query_country = \"\"\"\n",
    "    SELECT * \n",
    "    FROM country\n",
    "    WHERE Name = 'South Sudan';\n",
    "    \"\"\"\n",
    "    cursor.execute(sql_query_country)\n",
    "    country_info = cursor.fetchone()\n",
    "\n",
    "    if country_info:\n",
    "        print(\"Country Information:\")\n",
    "        print(country_info)\n",
    "    else:\n",
    "        print(\"No information found for South Sudan in the country table.\")\n",
    "\n",
    "    # South Sudan 관련 도시 정보 추출\n",
    "    print(\"\\nFetching South Sudan cities from the city table:\")\n",
    "    sql_query_cities = \"\"\"\n",
    "    SELECT * \n",
    "    FROM city\n",
    "    WHERE CountryCode = 'SSD';\n",
    "    \"\"\"\n",
    "    cursor.execute(sql_query_cities)\n",
    "    city_info = cursor.fetchall()\n",
    "\n",
    "    if city_info:\n",
    "        print(\"City Information:\")\n",
    "        for city in city_info:\n",
    "            print(city)\n",
    "    else:\n",
    "        print(\"No city information found for South Sudan in the city table.\")\n",
    "\n",
    "except sqlite3.Error as e:\n",
    "    print(f\"Database error: {e}\")\n",
    "\n",
    "finally:\n",
    "    # 연결 닫기\n",
    "    if connection:\n",
    "        connection.close()\n"
   ]
  },
  {
   "cell_type": "code",
   "execution_count": 64,
   "id": "d988f01e-1ef2-400e-b08a-b1f7b52e6c0c",
   "metadata": {
    "tags": []
   },
   "outputs": [
    {
     "data": {
      "image/png": "[encoded data removed]",
      "text/plain": [
       "<Figure size 720x432 with 1 Axes>"
      ]
     },
     "metadata": {
      "needs_background": "light"
     },
     "output_type": "display_data"
    }
   ],
   "source": [
    "# QUESTION 4\n",
    "from sqlalchemy import create_engine, MetaData, Table, select\n",
    "import pandas as pd\n",
    "import matplotlib.pyplot as plt\n",
    "\n",
    "# 데이터베이스 연결 설정\n",
    "db_path = \"/blue/bsc4452/seoyeon0814/problem_set5/world.sqlite\"  # 경로 수정\n",
    "engine = create_engine(f'sqlite:///{db_path}')\n",
    "connection = engine.connect()\n",
    "metadata = MetaData()\n",
    "\n",
    "# 테이블 로드\n",
    "country = Table('country', metadata, autoload_with=engine)\n",
    "\n",
    "# SQLAlchemy 쿼리 작성: LifeExpectancy와 Population 추출\n",
    "query = select([country.c.LifeExpectancy, country.c.Population]).where(country.c.LifeExpectancy != None)\n",
    "\n",
    "# 데이터 가져오기\n",
    "result = connection.execute(query).fetchall()\n",
    "\n",
    "# Pandas DataFrame 생성\n",
    "df = pd.DataFrame(result, columns=[\"LifeExpectancy\", \"Population\"])\n",
    "\n",
    "# 연결 닫기\n",
    "connection.close()\n",
    "\n",
    "# 데이터 필터링: Population과 LifeExpectancy가 유효한 값만 사용\n",
    "df = df.dropna()\n",
    "\n",
    "# Matplotlib로 시각화\n",
    "plt.figure(figsize=(10, 6))\n",
    "plt.scatter(df['Population'], df['LifeExpectancy'], alpha=0.7, edgecolor='k')\n",
    "plt.title(\"Life Expectancy vs Population\", fontsize=16)\n",
    "plt.xlabel(\"Population\", fontsize=14)\n",
    "plt.ylabel(\"Life Expectancy\", fontsize=14)\n",
    "plt.grid(True)\n",
    "plt.show()\n"
   ]
  },
  {
   "cell_type": "code",
   "execution_count": 66,
   "id": "fc292edf-362f-4b28-a147-c20cec42582b",
   "metadata": {
    "tags": []
   },
   "outputs": [
    {
     "data": {
      "image/png": "[encoded data removed]",
      "text/plain": [
       "<Figure size 720x432 with 1 Axes>"
      ]
     },
     "metadata": {
      "needs_background": "light"
     },
     "output_type": "display_data"
    }
   ],
   "source": [
    "# Grad student extra credit\n",
    "from sqlalchemy import create_engine, MetaData, Table, select, func, and_\n",
    "import pandas as pd\n",
    "import matplotlib.pyplot as plt\n",
    "\n",
    "# 데이터베이스 연결 설정\n",
    "db_path = \"/blue/bsc4452/seoyeon0814/problem_set5/world.sqlite\"  # 경로 수정\n",
    "engine = create_engine(f'sqlite:///{db_path}')\n",
    "connection = engine.connect()\n",
    "metadata = MetaData()\n",
    "\n",
    "# 테이블 로드\n",
    "country = Table('country', metadata, autoload_with=engine)\n",
    "city = Table('city', metadata, autoload_with=engine)\n",
    "\n",
    "# SQLAlchemy 쿼리 작성: 도시 인구 합계와 국가 데이터 추출\n",
    "query = (\n",
    "    select([\n",
    "        country.c.Name,\n",
    "        country.c.LifeExpectancy,\n",
    "        country.c.Population,\n",
    "        func.sum(city.c.Population).label('CityPopulation')\n",
    "    ])\n",
    "    .select_from(country.join(city, country.c.Code == city.c.CountryCode))\n",
    "    .group_by(country.c.Code)\n",
    "    .having(and_(country.c.Population != None, country.c.LifeExpectancy != None))\n",
    ")\n",
    "\n",
    "# 데이터 가져오기\n",
    "result = connection.execute(query).fetchall()\n",
    "\n",
    "# Pandas DataFrame 생성\n",
    "df = pd.DataFrame(result, columns=[\"CountryName\", \"LifeExpectancy\", \"CountryPopulation\", \"CityPopulation\"])\n",
    "\n",
    "# 도시 인구 비율 계산 (CityPopulation / CountryPopulation)\n",
    "df['UrbanRatio'] = df['CityPopulation'] / df['CountryPopulation']\n",
    "\n",
    "# 연결 닫기\n",
    "connection.close()\n",
    "\n",
    "# 데이터 시각화\n",
    "plt.figure(figsize=(10, 6))\n",
    "plt.scatter(df['UrbanRatio'], df['LifeExpectancy'], alpha=0.7, edgecolor='k')\n",
    "plt.title(\"Life Expectancy vs Urban Population Ratio\", fontsize=16)\n",
    "plt.xlabel(\"Urban Population Ratio (CityPopulation / CountryPopulation)\", fontsize=14)\n",
    "plt.ylabel(\"Life Expectancy\", fontsize=14)\n",
    "plt.grid(True)\n",
    "plt.show()\n"
   ]
  }
 ],
 "metadata": {
  "kernelspec": {
   "display_name": "UFRC Python-3.10",
   "language": "python",
   "name": "python3-3.10-ufrc"
  },
  "language_info": {
   "codemirror_mode": {
    "name": "ipython",
    "version": 3
   },
   "file_extension": ".py",
   "mimetype": "text/x-python",
   "name": "python",
   "nbconvert_exporter": "python",
   "pygments_lexer": "ipython3",
   "version": "3.10.8"
  }
 },
 "nbformat": 4,
 "nbformat_minor": 5
}
